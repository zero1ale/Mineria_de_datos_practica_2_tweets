{
 "cells": [
  {
   "cell_type": "code",
   "execution_count": 5,
   "metadata": {},
   "outputs": [],
   "source": [
    "import numpy as np\n",
    "from numpy.linalg import norm\n",
    "import pandas as pd\n",
    "import seaborn as sns\n",
    "from collections import Counter\n",
    "import nltk\n",
    "from nltk.corpus import stopwords\n",
    "from nltk.tokenize import TreebankWordTokenizer\n",
    "from nltk.tokenize import RegexpTokenizer"
   ]
  },
  {
   "cell_type": "markdown",
   "metadata": {},
   "source": [
    "##### Tweets Chava"
   ]
  },
  {
   "cell_type": "code",
   "execution_count": 6,
   "metadata": {},
   "outputs": [],
   "source": [
    "tweet_1 = 'Welcome to Divination General!'\n",
    "tweet_2 = \"Come here for readings and discussion of theory/practice.\"\n",
    "tweet_3 = 'Every method is welcome: Astrology, Tarot, Runes, Cartomancy, Scrying, Pendulum, Cleromancy, I-Ching, Tasseomancy, Necromancy, etc..'\n",
    "tweet_4 = \">If you're NEW, please READ the STICKY: http://pastebin.com/2Wp1Q074\"\n",
    "tweet_5 = \">Guides made by some of our readers: Rustig wrote this to help beginners on how to choose a deck and start with the tarot: http://i.imgur.com/2rodLWB.png\"\n",
    "chava_tweets = [tweet_1, tweet_2, tweet_3, tweet_4, tweet_5]"
   ]
  },
  {
   "cell_type": "markdown",
   "metadata": {},
   "source": [
    "##### Tweets Victor"
   ]
  },
  {
   "cell_type": "code",
   "execution_count": 7,
   "metadata": {},
   "outputs": [],
   "source": [
    "tweet_1=\"I do tarot readings. Ask me a question.\"\n",
    "tweet_2=\"go to the divination general there is already a thread for that nigger.'\"\n",
    "tweet_3=\"I’m white\"\n",
    "tweet_4=\"Why is everyone who does tarot reading so gay?\"\n",
    "tweet_5=\"Ask ur dad\"\n",
    "victor_tweets = [tweet_1, tweet_2, tweet_3, tweet_4, tweet_5]\n",
    "for index, x in enumerate(rensan_tweets):\n",
    "    victor_tweets[index] = \" \".join(x.split(\",\"))"
   ]
  },
  {
   "cell_type": "markdown",
   "metadata": {},
   "source": [
    "##### Tweets Alexis"
   ]
  },
  {
   "cell_type": "code",
   "execution_count": 8,
   "metadata": {},
   "outputs": [],
   "source": [
    "Tweet1=\"-Bullshit queries will get bullshit answers.\"\n",
    "Tweet2=\"-Avoid making the same question over and over and/or to different readers in a short period of time, as this may lead to more confusion than clarification.\"\n",
    "Tweet3=\"Heya, what's up yo. I have an query: So how does it look like for me n K to be? I swear she's my flame, but I'm too deep on the spectrum to make anything of it. I feel like I know she likes me too, the same way, but I don't want to drag her down. I just don't know, and I'd be extremely grateful for a hand, even if it's drawn in spite, cause it'd help me get my bearings. M Taurus, year of rat, vivid emerald green, bold hazel, metal type.\"\n",
    "Tweet4=\"Am I the monster or the hero that I dream? Tarot is evocative but I leave the dealer's choice to the dealer.\"\n",
    "Tweet5=\"For a long time I was used to be the big fish in the pond but now that I moved somewhere bigger and more advanced. I used to have that going for me and now it is gone and I feel I no longer have much setting me apart and this is really impacting me emotionally.\"\n",
    "alexis_tweets = [Tweet1, Tweet2, Tweet3, Tweet4, Tweet5]"
   ]
  },
  {
   "cell_type": "markdown",
   "metadata": {},
   "source": [
    "### Tweets"
   ]
  },
  {
   "cell_type": "code",
   "execution_count": 9,
   "metadata": {},
   "outputs": [
    {
     "data": {
      "text/plain": [
       "15"
      ]
     },
     "execution_count": 9,
     "metadata": {},
     "output_type": "execute_result"
    }
   ],
   "source": [
    "tweets = chava_tweets + victor_tweets + alexis_tweets\n",
    "len(tweets)"
   ]
  },
  {
   "cell_type": "markdown",
   "metadata": {},
   "source": [
    "### Procesamiento"
   ]
  },
  {
   "cell_type": "code",
   "execution_count": 10,
   "metadata": {},
   "outputs": [
    {
     "data": {
      "text/plain": [
       "['welcome',\n",
       " 'to',\n",
       " 'divination',\n",
       " 'general',\n",
       " 'come',\n",
       " 'here',\n",
       " 'for',\n",
       " 'readings',\n",
       " 'and',\n",
       " 'discussion',\n",
       " 'of',\n",
       " 'theory',\n",
       " 'practice',\n",
       " 'every',\n",
       " 'method',\n",
       " 'is',\n",
       " 'welcome',\n",
       " 'astrology',\n",
       " 'tarot',\n",
       " 'runes',\n",
       " 'cartomancy',\n",
       " 'scrying',\n",
       " 'pendulum',\n",
       " 'cleromancy',\n",
       " 'i',\n",
       " 'ching',\n",
       " 'tasseomancy',\n",
       " 'necromancy',\n",
       " 'etc',\n",
       " 'if',\n",
       " 'you',\n",
       " 're',\n",
       " 'new',\n",
       " 'please',\n",
       " 'read',\n",
       " 'the',\n",
       " 'sticky',\n",
       " 'http',\n",
       " 'pastebin',\n",
       " 'com',\n",
       " '2wp1q074',\n",
       " 'guides',\n",
       " 'made',\n",
       " 'by',\n",
       " 'some',\n",
       " 'of',\n",
       " 'our',\n",
       " 'readers',\n",
       " 'rustig',\n",
       " 'wrote',\n",
       " 'this',\n",
       " 'to',\n",
       " 'help',\n",
       " 'beginners',\n",
       " 'on',\n",
       " 'how',\n",
       " 'to',\n",
       " 'choose',\n",
       " 'a',\n",
       " 'deck',\n",
       " 'and',\n",
       " 'start',\n",
       " 'with',\n",
       " 'the',\n",
       " 'tarot',\n",
       " 'http',\n",
       " 'i',\n",
       " 'imgur',\n",
       " 'com',\n",
       " '2rodlwb',\n",
       " 'png',\n",
       " 'i',\n",
       " 'do',\n",
       " 'tarot',\n",
       " 'readings',\n",
       " 'ask',\n",
       " 'me',\n",
       " 'a',\n",
       " 'question',\n",
       " 'go',\n",
       " 'to',\n",
       " 'the',\n",
       " 'divination',\n",
       " 'general',\n",
       " 'there',\n",
       " 'is',\n",
       " 'already',\n",
       " 'a',\n",
       " 'thread',\n",
       " 'for',\n",
       " 'that',\n",
       " 'nigger',\n",
       " 'i',\n",
       " 'm',\n",
       " 'white',\n",
       " 'why',\n",
       " 'is',\n",
       " 'everyone',\n",
       " 'who',\n",
       " 'does',\n",
       " 'tarot',\n",
       " 'reading',\n",
       " 'so',\n",
       " 'gay',\n",
       " 'ask',\n",
       " 'ur',\n",
       " 'dad',\n",
       " 'bullshit',\n",
       " 'queries',\n",
       " 'will',\n",
       " 'get',\n",
       " 'bullshit',\n",
       " 'answers',\n",
       " 'avoid',\n",
       " 'making',\n",
       " 'the',\n",
       " 'same',\n",
       " 'question',\n",
       " 'over',\n",
       " 'and',\n",
       " 'over',\n",
       " 'and',\n",
       " 'or',\n",
       " 'to',\n",
       " 'different',\n",
       " 'readers',\n",
       " 'in',\n",
       " 'a',\n",
       " 'short',\n",
       " 'period',\n",
       " 'of',\n",
       " 'time',\n",
       " 'as',\n",
       " 'this',\n",
       " 'may',\n",
       " 'lead',\n",
       " 'to',\n",
       " 'more',\n",
       " 'confusion',\n",
       " 'than',\n",
       " 'clarification',\n",
       " 'heya',\n",
       " 'what',\n",
       " 's',\n",
       " 'up',\n",
       " 'yo',\n",
       " 'i',\n",
       " 'have',\n",
       " 'an',\n",
       " 'query',\n",
       " 'so',\n",
       " 'how',\n",
       " 'does',\n",
       " 'it',\n",
       " 'look',\n",
       " 'like',\n",
       " 'for',\n",
       " 'me',\n",
       " 'n',\n",
       " 'k',\n",
       " 'to',\n",
       " 'be',\n",
       " 'i',\n",
       " 'swear',\n",
       " 'she',\n",
       " 's',\n",
       " 'my',\n",
       " 'flame',\n",
       " 'but',\n",
       " 'i',\n",
       " 'm',\n",
       " 'too',\n",
       " 'deep',\n",
       " 'on',\n",
       " 'the',\n",
       " 'spectrum',\n",
       " 'to',\n",
       " 'make',\n",
       " 'anything',\n",
       " 'of',\n",
       " 'it',\n",
       " 'i',\n",
       " 'feel',\n",
       " 'like',\n",
       " 'i',\n",
       " 'know',\n",
       " 'she',\n",
       " 'likes',\n",
       " 'me',\n",
       " 'too',\n",
       " 'the',\n",
       " 'same',\n",
       " 'way',\n",
       " 'but',\n",
       " 'i',\n",
       " 'don',\n",
       " 't',\n",
       " 'want',\n",
       " 'to',\n",
       " 'drag',\n",
       " 'her',\n",
       " 'down',\n",
       " 'i',\n",
       " 'just',\n",
       " 'don',\n",
       " 't',\n",
       " 'know',\n",
       " 'and',\n",
       " 'i',\n",
       " 'd',\n",
       " 'be',\n",
       " 'extremely',\n",
       " 'grateful',\n",
       " 'for',\n",
       " 'a',\n",
       " 'hand',\n",
       " 'even',\n",
       " 'if',\n",
       " 'it',\n",
       " 's',\n",
       " 'drawn',\n",
       " 'in',\n",
       " 'spite',\n",
       " 'cause',\n",
       " 'it',\n",
       " 'd',\n",
       " 'help',\n",
       " 'me',\n",
       " 'get',\n",
       " 'my',\n",
       " 'bearings',\n",
       " 'm',\n",
       " 'taurus',\n",
       " 'year',\n",
       " 'of',\n",
       " 'rat',\n",
       " 'vivid',\n",
       " 'emerald',\n",
       " 'green',\n",
       " 'bold',\n",
       " 'hazel',\n",
       " 'metal',\n",
       " 'type',\n",
       " 'am',\n",
       " 'i',\n",
       " 'the',\n",
       " 'monster',\n",
       " 'or',\n",
       " 'the',\n",
       " 'hero',\n",
       " 'that',\n",
       " 'i',\n",
       " 'dream',\n",
       " 'tarot',\n",
       " 'is',\n",
       " 'evocative',\n",
       " 'but',\n",
       " 'i',\n",
       " 'leave',\n",
       " 'the',\n",
       " 'dealer',\n",
       " 's',\n",
       " 'choice',\n",
       " 'to',\n",
       " 'the',\n",
       " 'dealer',\n",
       " 'for',\n",
       " 'a',\n",
       " 'long',\n",
       " 'time',\n",
       " 'i',\n",
       " 'was',\n",
       " 'used',\n",
       " 'to',\n",
       " 'be',\n",
       " 'the',\n",
       " 'big',\n",
       " 'fish',\n",
       " 'in',\n",
       " 'the',\n",
       " 'pond',\n",
       " 'but',\n",
       " 'now',\n",
       " 'that',\n",
       " 'i',\n",
       " 'moved',\n",
       " 'somewhere',\n",
       " 'bigger',\n",
       " 'and',\n",
       " 'more',\n",
       " 'advanced',\n",
       " 'i',\n",
       " 'used',\n",
       " 'to',\n",
       " 'have',\n",
       " 'that',\n",
       " 'going',\n",
       " 'for',\n",
       " 'me',\n",
       " 'and',\n",
       " 'now',\n",
       " 'it',\n",
       " 'is',\n",
       " 'gone',\n",
       " 'and',\n",
       " 'i',\n",
       " 'feel',\n",
       " 'i',\n",
       " 'no',\n",
       " 'longer',\n",
       " 'have',\n",
       " 'much',\n",
       " 'setting',\n",
       " 'me',\n",
       " 'apart',\n",
       " 'and',\n",
       " 'this',\n",
       " 'is',\n",
       " 'really',\n",
       " 'impacting',\n",
       " 'me',\n",
       " 'emotionally']"
      ]
     },
     "execution_count": 10,
     "metadata": {},
     "output_type": "execute_result"
    }
   ],
   "source": [
    "tokenizer = RegexpTokenizer(r'\\w+')\n",
    "tokens = [word for x in tweets for word in tokenizer.tokenize(x.lower())]\n",
    "tokens"
   ]
  },
  {
   "cell_type": "code",
   "execution_count": 12,
   "metadata": {},
   "outputs": [
    {
     "data": {
      "text/plain": [
       "['welcome',\n",
       " 'divination',\n",
       " 'general',\n",
       " 'come',\n",
       " 'readings',\n",
       " 'discussion',\n",
       " 'theory',\n",
       " 'practice',\n",
       " 'every',\n",
       " 'method',\n",
       " 'welcome',\n",
       " 'astrology',\n",
       " 'tarot',\n",
       " 'runes',\n",
       " 'cartomancy',\n",
       " 'scrying',\n",
       " 'pendulum',\n",
       " 'cleromancy',\n",
       " 'ching',\n",
       " 'tasseomancy',\n",
       " 'necromancy',\n",
       " 'etc',\n",
       " 'new',\n",
       " 'please',\n",
       " 'read',\n",
       " 'sticky',\n",
       " 'http',\n",
       " 'pastebin',\n",
       " 'com',\n",
       " '2wp1q074',\n",
       " 'guides',\n",
       " 'made',\n",
       " 'readers',\n",
       " 'rustig',\n",
       " 'wrote',\n",
       " 'help',\n",
       " 'beginners',\n",
       " 'choose',\n",
       " 'deck',\n",
       " 'start',\n",
       " 'tarot',\n",
       " 'http',\n",
       " 'imgur',\n",
       " 'com',\n",
       " '2rodlwb',\n",
       " 'png',\n",
       " 'tarot',\n",
       " 'readings',\n",
       " 'ask',\n",
       " 'question',\n",
       " 'go',\n",
       " 'divination',\n",
       " 'general',\n",
       " 'already',\n",
       " 'thread',\n",
       " 'nigger',\n",
       " 'white',\n",
       " 'everyone',\n",
       " 'tarot',\n",
       " 'reading',\n",
       " 'gay',\n",
       " 'ask',\n",
       " 'ur',\n",
       " 'dad',\n",
       " 'bullshit',\n",
       " 'queries',\n",
       " 'get',\n",
       " 'bullshit',\n",
       " 'answers',\n",
       " 'avoid',\n",
       " 'making',\n",
       " 'question',\n",
       " 'different',\n",
       " 'readers',\n",
       " 'short',\n",
       " 'period',\n",
       " 'time',\n",
       " 'may',\n",
       " 'lead',\n",
       " 'confusion',\n",
       " 'clarification',\n",
       " 'heya',\n",
       " 'query',\n",
       " 'look',\n",
       " 'like',\n",
       " 'n',\n",
       " 'k',\n",
       " 'swear',\n",
       " 'flame',\n",
       " 'deep',\n",
       " 'spectrum',\n",
       " 'make',\n",
       " 'anything',\n",
       " 'feel',\n",
       " 'like',\n",
       " 'know',\n",
       " 'likes',\n",
       " 'way',\n",
       " 'want',\n",
       " 'drag',\n",
       " 'know',\n",
       " 'extremely',\n",
       " 'grateful',\n",
       " 'hand',\n",
       " 'even',\n",
       " 'drawn',\n",
       " 'spite',\n",
       " 'cause',\n",
       " 'help',\n",
       " 'get',\n",
       " 'bearings',\n",
       " 'taurus',\n",
       " 'year',\n",
       " 'rat',\n",
       " 'vivid',\n",
       " 'emerald',\n",
       " 'green',\n",
       " 'bold',\n",
       " 'hazel',\n",
       " 'metal',\n",
       " 'type',\n",
       " 'monster',\n",
       " 'hero',\n",
       " 'dream',\n",
       " 'tarot',\n",
       " 'evocative',\n",
       " 'leave',\n",
       " 'dealer',\n",
       " 'choice',\n",
       " 'dealer',\n",
       " 'long',\n",
       " 'time',\n",
       " 'used',\n",
       " 'big',\n",
       " 'fish',\n",
       " 'pond',\n",
       " 'moved',\n",
       " 'somewhere',\n",
       " 'bigger',\n",
       " 'advanced',\n",
       " 'used',\n",
       " 'going',\n",
       " 'gone',\n",
       " 'feel',\n",
       " 'longer',\n",
       " 'much',\n",
       " 'setting',\n",
       " 'apart',\n",
       " 'really',\n",
       " 'impacting',\n",
       " 'emotionally']"
      ]
     },
     "execution_count": 12,
     "metadata": {},
     "output_type": "execute_result"
    }
   ],
   "source": [
    "stop_words = stopwords.words('english')\n",
    "palabras_paro = stopwords.words('spanish')\n",
    "tokens_clean = [word for word in tokens if word not in stop_words + palabras_paro]\n",
    "tokens_clean"
   ]
  },
  {
   "cell_type": "code",
   "execution_count": 13,
   "metadata": {},
   "outputs": [
    {
     "data": {
      "text/plain": [
       "[('tarot', 5),\n",
       " ('welcome', 2),\n",
       " ('divination', 2),\n",
       " ('general', 2),\n",
       " ('readings', 2),\n",
       " ('http', 2),\n",
       " ('com', 2),\n",
       " ('readers', 2),\n",
       " ('help', 2),\n",
       " ('ask', 2),\n",
       " ('question', 2),\n",
       " ('bullshit', 2),\n",
       " ('get', 2),\n",
       " ('time', 2),\n",
       " ('like', 2),\n",
       " ('feel', 2),\n",
       " ('know', 2),\n",
       " ('dealer', 2),\n",
       " ('used', 2),\n",
       " ('come', 1),\n",
       " ('discussion', 1),\n",
       " ('theory', 1),\n",
       " ('practice', 1),\n",
       " ('every', 1),\n",
       " ('method', 1),\n",
       " ('astrology', 1),\n",
       " ('runes', 1),\n",
       " ('cartomancy', 1),\n",
       " ('scrying', 1),\n",
       " ('pendulum', 1),\n",
       " ('cleromancy', 1),\n",
       " ('ching', 1),\n",
       " ('tasseomancy', 1),\n",
       " ('necromancy', 1),\n",
       " ('etc', 1),\n",
       " ('new', 1),\n",
       " ('please', 1),\n",
       " ('read', 1),\n",
       " ('sticky', 1),\n",
       " ('pastebin', 1),\n",
       " ('2wp1q074', 1),\n",
       " ('guides', 1),\n",
       " ('made', 1),\n",
       " ('rustig', 1),\n",
       " ('wrote', 1),\n",
       " ('beginners', 1),\n",
       " ('choose', 1),\n",
       " ('deck', 1),\n",
       " ('start', 1),\n",
       " ('imgur', 1),\n",
       " ('2rodlwb', 1),\n",
       " ('png', 1),\n",
       " ('go', 1),\n",
       " ('already', 1),\n",
       " ('thread', 1),\n",
       " ('nigger', 1),\n",
       " ('white', 1),\n",
       " ('everyone', 1),\n",
       " ('reading', 1),\n",
       " ('gay', 1),\n",
       " ('ur', 1),\n",
       " ('dad', 1),\n",
       " ('queries', 1),\n",
       " ('answers', 1),\n",
       " ('avoid', 1),\n",
       " ('making', 1),\n",
       " ('different', 1),\n",
       " ('short', 1),\n",
       " ('period', 1),\n",
       " ('may', 1),\n",
       " ('lead', 1),\n",
       " ('confusion', 1),\n",
       " ('clarification', 1),\n",
       " ('heya', 1),\n",
       " ('query', 1),\n",
       " ('look', 1),\n",
       " ('n', 1),\n",
       " ('k', 1),\n",
       " ('swear', 1),\n",
       " ('flame', 1),\n",
       " ('deep', 1),\n",
       " ('spectrum', 1),\n",
       " ('make', 1),\n",
       " ('anything', 1),\n",
       " ('likes', 1),\n",
       " ('way', 1),\n",
       " ('want', 1),\n",
       " ('drag', 1),\n",
       " ('extremely', 1),\n",
       " ('grateful', 1),\n",
       " ('hand', 1),\n",
       " ('even', 1),\n",
       " ('drawn', 1),\n",
       " ('spite', 1),\n",
       " ('cause', 1),\n",
       " ('bearings', 1),\n",
       " ('taurus', 1),\n",
       " ('year', 1),\n",
       " ('rat', 1),\n",
       " ('vivid', 1),\n",
       " ('emerald', 1),\n",
       " ('green', 1),\n",
       " ('bold', 1),\n",
       " ('hazel', 1),\n",
       " ('metal', 1),\n",
       " ('type', 1),\n",
       " ('monster', 1),\n",
       " ('hero', 1),\n",
       " ('dream', 1),\n",
       " ('evocative', 1),\n",
       " ('leave', 1),\n",
       " ('choice', 1),\n",
       " ('long', 1),\n",
       " ('big', 1),\n",
       " ('fish', 1),\n",
       " ('pond', 1),\n",
       " ('moved', 1),\n",
       " ('somewhere', 1),\n",
       " ('bigger', 1),\n",
       " ('advanced', 1),\n",
       " ('going', 1),\n",
       " ('gone', 1),\n",
       " ('longer', 1),\n",
       " ('much', 1),\n",
       " ('setting', 1),\n",
       " ('apart', 1),\n",
       " ('really', 1),\n",
       " ('impacting', 1),\n",
       " ('emotionally', 1)]"
      ]
     },
     "execution_count": 13,
     "metadata": {},
     "output_type": "execute_result"
    }
   ],
   "source": [
    "bag_of_words = Counter(tokens_clean)\n",
    "bag_of_words.most_common()"
   ]
  },
  {
   "cell_type": "markdown",
   "metadata": {},
   "source": [
    "### Matriz binaria"
   ]
  },
  {
   "cell_type": "code",
   "execution_count": 14,
   "metadata": {},
   "outputs": [
    {
     "data": {
      "text/plain": [
       "array([[0., 0., 0., ..., 0., 0., 0.],\n",
       "       [0., 0., 0., ..., 0., 0., 0.],\n",
       "       [1., 0., 0., ..., 0., 0., 0.],\n",
       "       ...,\n",
       "       [0., 0., 0., ..., 0., 0., 0.],\n",
       "       [0., 0., 0., ..., 0., 0., 0.],\n",
       "       [0., 0., 0., ..., 1., 1., 1.]])"
      ]
     },
     "execution_count": 14,
     "metadata": {},
     "output_type": "execute_result"
    }
   ],
   "source": [
    "matrix = np.zeros((len(tweets), len(bag_of_words))) \n",
    "\n",
    "i = 0\n",
    "j = 0\n",
    "for word in bag_of_words:\n",
    "    for tweet in tweets:\n",
    "        if word in tweet:\n",
    "            matrix[j, i] = 1\n",
    "        j += 1\n",
    "    j = 0\n",
    "    i += 1\n",
    "\n",
    "matrix"
   ]
  },
  {
   "cell_type": "code",
   "execution_count": 15,
   "metadata": {},
   "outputs": [
    {
     "data": {
      "text/plain": [
       "<matplotlib.axes._subplots.AxesSubplot at 0x139e90f0748>"
      ]
     },
     "execution_count": 15,
     "metadata": {},
     "output_type": "execute_result"
    },
    {
     "data": {
      "image/png": "[encoded data removed]",
      "text/plain": [
       "<Figure size 432x288 with 2 Axes>"
      ]
     },
     "metadata": {
      "needs_background": "light"
     },
     "output_type": "display_data"
    }
   ],
   "source": [
    "bin_cos_matrix = np.zeros((len(tweets), len(tweets)))\n",
    "for i in range(len(tweets)):\n",
    "    for j in range(len(tweets)):\n",
    "        bin_cos_matrix[i][j] = np.dot(matrix[i],matrix[j])/(norm(matrix[i])*norm(matrix[j]))\n",
    "sns.heatmap(bin_cos_matrix)"
   ]
  },
  {
   "cell_type": "code",
   "execution_count": 16,
   "metadata": {},
   "outputs": [
    {
     "data": {
      "text/plain": [
       "'-Bullshit queries will get bullshit answers.'"
      ]
     },
     "execution_count": 16,
     "metadata": {},
     "output_type": "execute_result"
    }
   ],
   "source": [
    "tweets[10]"
   ]
  },
  {
   "cell_type": "code",
   "execution_count": 17,
   "metadata": {},
   "outputs": [
    {
     "data": {
      "text/plain": [
       "\"Heya, what's up yo. I have an query: So how does it look like for me n K to be? I swear she's my flame, but I'm too deep on the spectrum to make anything of it. I feel like I know she likes me too, the same way, but I don't want to drag her down. I just don't know, and I'd be extremely grateful for a hand, even if it's drawn in spite, cause it'd help me get my bearings. M Taurus, year of rat, vivid emerald green, bold hazel, metal type.\""
      ]
     },
     "execution_count": 17,
     "metadata": {},
     "output_type": "execute_result"
    }
   ],
   "source": [
    "tweets[12]"
   ]
  },
  {
   "cell_type": "markdown",
   "metadata": {},
   "source": [
    "### Matriz frecuencia"
   ]
  },
  {
   "cell_type": "code",
   "execution_count": 18,
   "metadata": {},
   "outputs": [],
   "source": [
    "matrix = np.zeros((len(tweets), len(bag_of_words))) \n",
    "\n",
    "i = 0\n",
    "j = 0\n",
    "for word in bag_of_words:\n",
    "    for tweet in tweets:\n",
    "        if word in tweet:\n",
    "            matrix[j, i] = bag_of_words[word]\n",
    "        j += 1\n",
    "    j = 0\n",
    "    i += 1"
   ]
  },
  {
   "cell_type": "code",
   "execution_count": 19,
   "metadata": {},
   "outputs": [
    {
     "data": {
      "text/plain": [
       "array([[0., 0., 0., ..., 0., 0., 0.],\n",
       "       [0., 0., 0., ..., 0., 0., 0.],\n",
       "       [2., 0., 0., ..., 0., 0., 0.],\n",
       "       ...,\n",
       "       [0., 0., 0., ..., 0., 0., 0.],\n",
       "       [0., 0., 0., ..., 0., 0., 0.],\n",
       "       [0., 0., 0., ..., 1., 1., 1.]])"
      ]
     },
     "execution_count": 19,
     "metadata": {},
     "output_type": "execute_result"
    }
   ],
   "source": [
    "matrix"
   ]
  },
  {
   "cell_type": "code",
   "execution_count": 20,
   "metadata": {},
   "outputs": [
    {
     "data": {
      "text/plain": [
       "(15, 129)"
      ]
     },
     "execution_count": 20,
     "metadata": {},
     "output_type": "execute_result"
    }
   ],
   "source": [
    "matrix.shape"
   ]
  },
  {
   "cell_type": "code",
   "execution_count": 22,
   "metadata": {},
   "outputs": [
    {
     "data": {
      "text/plain": [
       "0.12909944487358058"
      ]
     },
     "execution_count": 22,
     "metadata": {},
     "output_type": "execute_result"
    }
   ],
   "source": [
    "df_cos_t01_t02 = np.dot(matrix[0],matrix[1])/(norm(matrix[0])*norm(matrix[1]))\n",
    "df_cos_t01_t02"
   ]
  },
  {
   "cell_type": "code",
   "execution_count": 23,
   "metadata": {},
   "outputs": [
    {
     "data": {
      "text/plain": [
       "0.09128709291752768"
      ]
     },
     "execution_count": 23,
     "metadata": {},
     "output_type": "execute_result"
    }
   ],
   "source": [
    "df_cos_t02_t03 = np.dot(matrix[1],matrix[2])/(norm(matrix[1])*norm(matrix[2]))\n",
    "df_cos_t02_t03"
   ]
  },
  {
   "cell_type": "code",
   "execution_count": 24,
   "metadata": {},
   "outputs": [
    {
     "data": {
      "text/plain": [
       "0.7071067811865476"
      ]
     },
     "execution_count": 24,
     "metadata": {},
     "output_type": "execute_result"
    }
   ],
   "source": [
    "df_cos_t01_t03 = np.dot(matrix[0],matrix[2])/(norm(matrix[0])*norm(matrix[2]))\n",
    "df_cos_t01_t03"
   ]
  },
  {
   "cell_type": "code",
   "execution_count": null,
   "metadata": {},
   "outputs": [],
   "source": []
  }
 ],
 "metadata": {
  "kernelspec": {
   "display_name": "Python 3",
   "language": "python",
   "name": "python3"
  },
  "language_info": {
   "codemirror_mode": {
    "name": "ipython",
    "version": 3
   },
   "file_extension": ".py",
   "mimetype": "text/x-python",
   "name": "python",
   "nbconvert_exporter": "python",
   "pygments_lexer": "ipython3",
   "version": "3.7.4"
  }
 },
 "nbformat": 4,
 "nbformat_minor": 4
}
